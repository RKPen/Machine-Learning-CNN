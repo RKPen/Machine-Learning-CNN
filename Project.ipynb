{
 "cells": [
  {
   "cell_type": "code",
   "execution_count": null,
   "metadata": {},
   "outputs": [],
   "source": [
    "# Recources\n",
    "\n",
    "# https://www.tensorflow.org/hub\n",
    "# https://keras.io/api/applications/\n",
    "# https://www.kaggle.com/models/tensorflow/resnet-50"
   ]
  },
  {
   "cell_type": "code",
   "execution_count": null,
   "metadata": {},
   "outputs": [],
   "source": [
    "import numpy as np\n",
    "import cv2\n",
    "import os\n",
    "\n",
    "import matplotlib.pyplot as plt\n",
    "\n",
    "import tensorflow as tf\n",
    "import tensorflow_hub as hub\n",
    "\n",
    "from tf_keras import layers \n",
    "\n",
    "# Use Keras 2.\n",
    "version_fn = getattr(tf.keras, \"version\", None)\n",
    "if version_fn and version_fn().startswith(\"3.\"):\n",
    "  import tf_keras as keras\n",
    "else:\n",
    "  keras = tf.keras"
   ]
  },
  {
   "cell_type": "code",
   "execution_count": null,
   "metadata": {},
   "outputs": [],
   "source": [
    "dataset_path = 'C:\\\\Users\\\\Karim\\\\OneDrive\\\\Documents\\\\UNI\\\\SPRING 24\\\\CMPS 261\\\\Project\\\\Food-Item-Recognition\\\\data'\n",
    "\n",
    "# Create an ImageDataGenerator for preprocessing images\n",
    "data_generator = keras.preprocessing.image.ImageDataGenerator(\n",
    "    rescale=1./255,  # Normalize pixel values to [0,1]\n",
    "    validation_split=0.2  # Split data into training and validation sets\n",
    ")\n",
    "\n",
    "# Load and preprocess training data\n",
    "train_data_flow = data_generator.flow_from_directory(\n",
    "    dataset_path,\n",
    "    target_size=(224, 224),  # Resize images to 224x224\n",
    "    batch_size=32,\n",
    "    class_mode='categorical',\n",
    "    subset='training'  # Use training subset\n",
    ")\n",
    "\n",
    "# Load and preprocess validation data\n",
    "val_data_flow = data_generator.flow_from_directory(\n",
    "    dataset_path,\n",
    "    target_size=(224, 224),  # Resize images to 224x224\n",
    "    batch_size=32,\n",
    "    class_mode='categorical',\n",
    "    subset='validation'  # Use validation subset\n",
    ")"
   ]
  },
  {
   "cell_type": "code",
   "execution_count": null,
   "metadata": {},
   "outputs": [],
   "source": [
    "# Read the category file and parse category names and IDs\n",
    "category_file_path = os.path.join(dataset_path, 'category.txt')\n",
    "category_mapping = {}\n",
    "with open(category_file_path, 'r') as f:\n",
    "    next(f)  # Skip the header line\n",
    "    for line in f:\n",
    "        category_id, category_name = line.strip().split('\\t')\n",
    "        category_mapping[int(category_id)] = category_name"
   ]
  },
  {
   "cell_type": "code",
   "execution_count": null,
   "metadata": {},
   "outputs": [],
   "source": [
    "# Load the model from TensorFlow Hub\n",
    "model_url = \"https://tfhub.dev/tensorflow/resnet_50/feature_vector/1\"\n",
    "hub_layer = hub.KerasLayer(model_url, input_shape=(224, 224, 3) , trainable=False)\n",
    "\n",
    "# Create a Sequential model\n",
    "model = keras.Sequential([\n",
    "    hub_layer,\n",
    "    layers.Dense(256, activation='relu'),\n",
    "    layers.Dropout(0.5),\n",
    "    layers.Dense(9, activation='softmax')])\n",
    "\n",
    "# Build the Sequential model\n",
    "model.build((None, 224, 224, 3))\n",
    "\n",
    "# Summary of the model\n",
    "model.summary()\n"
   ]
  },
  {
   "cell_type": "code",
   "execution_count": null,
   "metadata": {},
   "outputs": [],
   "source": [
    "# Compile the model\n",
    "model.compile(\n",
    "    optimizer='adam',\n",
    "    loss='categorical_crossentropy',\n",
    "    metrics=['accuracy']\n",
    ")\n"
   ]
  },
  {
   "cell_type": "code",
   "execution_count": null,
   "metadata": {},
   "outputs": [],
   "source": [
    "# Train the model\n",
    "history = model.fit(train_data_flow, validation_data=val_data_flow, epochs=10)"
   ]
  },
  {
   "cell_type": "code",
   "execution_count": null,
   "metadata": {},
   "outputs": [],
   "source": [
    "# Plot training history\n",
    "plt.plot(history.history['accuracy'], label='accuracy')\n",
    "plt.xlabel('Epoch')\n",
    "plt.ylabel('Accuracy')\n",
    "plt.legend()\n",
    "plt.show()"
   ]
  },
  {
   "cell_type": "code",
   "execution_count": null,
   "metadata": {},
   "outputs": [],
   "source": [
    "# Saving Model\n",
    "model.save('Trained_Model')"
   ]
  }
 ],
 "metadata": {
  "kernelspec": {
   "display_name": "Python 3",
   "language": "python",
   "name": "python3"
  },
  "language_info": {
   "codemirror_mode": {
    "name": "ipython",
    "version": 3
   },
   "file_extension": ".py",
   "mimetype": "text/x-python",
   "name": "python",
   "nbconvert_exporter": "python",
   "pygments_lexer": "ipython3",
   "version": "3.12.2"
  }
 },
 "nbformat": 4,
 "nbformat_minor": 2
}
