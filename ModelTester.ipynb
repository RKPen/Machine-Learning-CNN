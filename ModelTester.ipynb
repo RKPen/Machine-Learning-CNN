{
 "cells": [
  {
   "cell_type": "code",
   "execution_count": null,
   "metadata": {},
   "outputs": [],
   "source": [
    "import numpy as np\n",
    "import cv2\n",
    "import os\n",
    "\n",
    "import matplotlib as plt\n",
    "\n",
    "import tensorflow as tf\n",
    "import tensorflow_hub as hub\n",
    "\n",
    "from tf_keras import layers \n",
    "\n",
    "# Use Keras 2.\n",
    "version_fn = getattr(tf.keras, \"version\", None)\n",
    "if version_fn and version_fn().startswith(\"3.\"):\n",
    "  import tf_keras as keras\n",
    "else:\n",
    "  keras = tf.keras"
   ]
  },
  {
   "cell_type": "code",
   "execution_count": null,
   "metadata": {},
   "outputs": [],
   "source": [
    "github_model_url = \"https://github.com/RKPen/Project/tree/main/modelname\"# Download the modelresponse = requests.get(github_model_url)\n",
    "\n",
    "model_zip_path = \"saved_model.zip\"if response.status_code == 200:\n",
    "\n",
    "    with open(model_zip_path, \"wb\") as f:\n",
    "\n",
    "        f.write(response.content)# Unzip the modelimport zipfilewith zipfile.ZipFile(model_zip_path, \"r\") as zip_ref:\n",
    "\n",
    "    zip_ref.extractall(\"my_saved_model\")"
   ]
  },
  {
   "cell_type": "code",
   "execution_count": null,
   "metadata": {},
   "outputs": [],
   "source": [
    "dataset_path = 'ENTER YOUR URL'\n",
    "\n",
    "# Create an ImageDataGenerator for preprocessing images\n",
    "data_generator = keras.preprocessing.image.ImageDataGenerator(\n",
    "    rescale=1./255,  # Normalize pixel values to [0,1]\n",
    ")\n",
    "\n",
    "# Load and preprocess training data\n",
    "data_flow = data_generator.flow_from_directory(\n",
    "    dataset_path,\n",
    "    target_size=(224, 224),  # Resize images to 224x224\n",
    "    batch_size=32,\n",
    "    class_mode='categorical',\n",
    ")\n",
    "\n",
    "# Print class indices\n",
    "print(\"Class Indices:\", data_flow.class_indices)\n"
   ]
  },
  {
   "cell_type": "code",
   "execution_count": null,
   "metadata": {},
   "outputs": [],
   "source": [
    "model = keras.models.load_model(saved_model_path)\n",
    "\n",
    "# Step 3: Make Predictions on Test Dataset# Get the predictions from the model\n",
    "predictions = model.predict(data_flow)\n",
    "\n",
    "# Convert predictions to class labels\n",
    "predicted_classes = np.argmax(predictions, axis=1)\n",
    "\n",
    "# Step 4: Evaluate the Model\n",
    "\n",
    "# Get the true labels from the test data\n",
    "true_labels = test_data_flow.classes  \n",
    "\n",
    "# Actual class indices for the test set\n",
    "\n",
    "# Calculate accuracy\n",
    "accuracy = np.mean(predicted_classes == true_labels)  \n",
    "# Accuracy as the score\n",
    "print(\"Model Accuracy on Test Set:\", accuracy)\n",
    "\n",
    "# Optional: You can also use sklearn's classification_report for more detailed metrics\n",
    "from sklearn.metrics import classification_report\n",
    "print(\"Classification Report:\")\n",
    "print(classification_report(true_labels, predicted_classes, target_names=list(data_flow.class_indices.keys())))"
   ]
  }
 ],
 "metadata": {
  "kernelspec": {
   "display_name": "Python 3",
   "language": "python",
   "name": "python3"
  },
  "language_info": {
   "codemirror_mode": {
    "name": "ipython",
    "version": 3
   },
   "file_extension": ".py",
   "mimetype": "text/x-python",
   "name": "python",
   "nbconvert_exporter": "python",
   "pygments_lexer": "ipython3",
   "version": "3.12.2"
  }
 },
 "nbformat": 4,
 "nbformat_minor": 2
}
